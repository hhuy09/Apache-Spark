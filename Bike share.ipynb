{
 "cells": [
  {
   "cell_type": "markdown",
   "metadata": {},
   "source": [
    "#### Trong bài tập này, bạn sẽ sử dụng dữ liệu này để trả về số lượng xe đạp trung bình có sẵn theo giờ trong một tuần (22 tháng 2 đến 28 tháng 2) cho các đài chỉ nằm trong khu vực San Jose. "
   ]
  },
  {
   "cell_type": "code",
   "execution_count": 1,
   "metadata": {},
   "outputs": [],
   "source": [
    "import findspark\n",
    "findspark.init()\n",
    "findspark.find()\n",
    "import pyspark\n",
    "findspark.find()\n",
    "from pyspark.context import SparkContext\n",
    "from pyspark.sql.session import SparkSession\n",
    "import pandas as pd\n",
    "from pyspark import SparkConf, SparkContext\n",
    "from pyspark.sql import SQLContext, HiveContext\n",
    "sc = SparkContext.getOrCreate()\n",
    "hiveContext = HiveContext(sc)\n",
    "sqlContext = SQLContext(sc)\n",
    "spark = SparkSession(sc)"
   ]
  },
  {
   "cell_type": "markdown",
   "metadata": {},
   "source": [
    "Create an RDD named stations/status/"
   ]
  },
  {
   "cell_type": "code",
   "execution_count": 5,
   "metadata": {},
   "outputs": [],
   "source": [
    "stations = sc.textFile('data/bike-share/stations.csv')\n",
    "status = sc.textFile('data/bike-share/status.csv')"
   ]
  },
  {
   "cell_type": "code",
   "execution_count": 4,
   "metadata": {},
   "outputs": [
    {
     "data": {
      "text/plain": [
       "['196', '242', '3', '881250949']"
      ]
     },
     "execution_count": 4,
     "metadata": {},
     "output_type": "execute_result"
    }
   ],
   "source": [
    "status2 = status.map(lambda x: x.split(','))\n",
    "status2.first()"
   ]
  },
  {
   "cell_type": "code",
   "execution_count": 4,
   "metadata": {},
   "outputs": [
    {
     "data": {
      "text/plain": [
       "('10', '9', '6', ['2015-02-28', '23:59:01'])"
      ]
     },
     "execution_count": 4,
     "metadata": {},
     "output_type": "execute_result"
    }
   ],
   "source": [
    "status2 = status.map(lambda x: x.split(',')) \\\n",
    ".map(lambda x: (x[0], x[1], x[2], x[3].replace('\"',''))) \\\n",
    ".map(lambda x: (x[0], x[1], x[2], x[3].split(' '))) \n",
    "status2.first()"
   ]
  },
  {
   "cell_type": "code",
   "execution_count": 5,
   "metadata": {},
   "outputs": [
    {
     "data": {
      "text/plain": [
       "('10', '9', '6', ['2015', '02', '28'], ['23', '59', '01'])"
      ]
     },
     "execution_count": 5,
     "metadata": {},
     "output_type": "execute_result"
    }
   ],
   "source": [
    "status2 = status.map(lambda x: x.split(',')) \\\n",
    ".map(lambda x: (x[0], x[1], x[2], x[3].replace('\"',''))) \\\n",
    ".map(lambda x: (x[0], x[1], x[2], x[3].split(' '))) \\\n",
    ".map(lambda x: (x[0], x[1], x[2], x[3][0].split('-'), x[3][1].split(':'))) \n",
    "status2.first()"
   ]
  },
  {
   "cell_type": "code",
   "execution_count": 6,
   "metadata": {},
   "outputs": [
    {
     "data": {
      "text/plain": [
       "(10, 9, 2015, 2, 28, 23)"
      ]
     },
     "execution_count": 6,
     "metadata": {},
     "output_type": "execute_result"
    }
   ],
   "source": [
    "status2 = status.map(lambda x: x.split(',')) \\\n",
    ".map(lambda x: (x[0], x[1], x[2], x[3].replace('\"',''))) \\\n",
    ".map(lambda x: (x[0], x[1], x[2], x[3].split(' '))) \\\n",
    ".map(lambda x: (x[0], x[1], x[2], x[3][0].split('-'), x[3][1].split(':'))) \\\n",
    ".map(lambda x: (int(x[0]), int(x[1]), int(x[3][0]), int(x[3][1]), int(x[3][2]), int(x[4][0])))\n",
    "status2.first()"
   ]
  },
  {
   "cell_type": "markdown",
   "metadata": {},
   "source": [
    "Lấy từ 22-28/2"
   ]
  },
  {
   "cell_type": "code",
   "execution_count": 7,
   "metadata": {},
   "outputs": [
    {
     "data": {
      "text/plain": [
       "(10, 9, 23)"
      ]
     },
     "execution_count": 7,
     "metadata": {},
     "output_type": "execute_result"
    }
   ],
   "source": [
    "status3 = status2.filter(lambda x: x[2]==2015 and \\\n",
    " x[3]==2 and \\\n",
    " x[4]>=22) \\\n",
    " .map(lambda x: (x[0], x[1], x[5]))\n",
    "status3.first()"
   ]
  },
  {
   "cell_type": "markdown",
   "metadata": {},
   "source": [
    "Lọc tập dữ liệu trạm 'San Jose'"
   ]
  },
  {
   "cell_type": "code",
   "execution_count": 8,
   "metadata": {},
   "outputs": [
    {
     "data": {
      "text/plain": [
       "['2',\n",
       " 'San Jose Diridon Caltrain Station',\n",
       " '37.329732',\n",
       " '-121.901782',\n",
       " '27',\n",
       " 'San Jose',\n",
       " '8/6/2013']"
      ]
     },
     "execution_count": 8,
     "metadata": {},
     "output_type": "execute_result"
    }
   ],
   "source": [
    "stations2 = stations.map(lambda x: x.split(','))\n",
    "stations2.first()"
   ]
  },
  {
   "cell_type": "code",
   "execution_count": 9,
   "metadata": {},
   "outputs": [
    {
     "data": {
      "text/plain": [
       "['2',\n",
       " 'San Jose Diridon Caltrain Station',\n",
       " '37.329732',\n",
       " '-121.901782',\n",
       " '27',\n",
       " 'San Jose',\n",
       " '8/6/2013']"
      ]
     },
     "execution_count": 9,
     "metadata": {},
     "output_type": "execute_result"
    }
   ],
   "source": [
    "stations2 = stations.map(lambda x: x.split(',')) \\\n",
    " .filter(lambda x: x[5] == 'San Jose')\n",
    "stations2.first()"
   ]
  },
  {
   "cell_type": "code",
   "execution_count": 10,
   "metadata": {},
   "outputs": [
    {
     "data": {
      "text/plain": [
       "(2, 'San Jose Diridon Caltrain Station')"
      ]
     },
     "execution_count": 10,
     "metadata": {},
     "output_type": "execute_result"
    }
   ],
   "source": [
    "stations2 = stations.map(lambda x: x.split(',')) \\\n",
    " .filter(lambda x: x[5] == 'San Jose') \\\n",
    " .map(lambda x: (int(x[0]), x[1]))\n",
    "stations2.first()"
   ]
  },
  {
   "cell_type": "markdown",
   "metadata": {},
   "source": [
    "Chuyển đổi cả hai RDD thành RDD cặp key/value để chuẩn bị cho một phép join hoạt động"
   ]
  },
  {
   "cell_type": "code",
   "execution_count": 11,
   "metadata": {},
   "outputs": [],
   "source": [
    "status_kv = status3.keyBy(lambda x: x[0])\n",
    "stations_kv = stations2.keyBy(lambda x: x[0])"
   ]
  },
  {
   "cell_type": "markdown",
   "metadata": {},
   "source": [
    "Nối cặp key/value status_kv RDD vào key/value stations_kv ghép nối RDD bằng các khóa của chúng (station_id)"
   ]
  },
  {
   "cell_type": "code",
   "execution_count": 12,
   "metadata": {},
   "outputs": [
    {
     "data": {
      "text/plain": [
       "(12, ((12, 10, 23), (12, 'SJSU 4th at San Carlos')))"
      ]
     },
     "execution_count": 12,
     "metadata": {},
     "output_type": "execute_result"
    }
   ],
   "source": [
    "joined = status_kv.join(stations_kv)\n",
    "joined.first()"
   ]
  },
  {
   "cell_type": "code",
   "execution_count": 13,
   "metadata": {},
   "outputs": [
    {
     "data": {
      "text/plain": [
       "(12, 10, 23, 'SJSU 4th at San Carlos')"
      ]
     },
     "execution_count": 13,
     "metadata": {},
     "output_type": "execute_result"
    }
   ],
   "source": [
    "cleaned = joined.map(lambda x: (x[0], x[1][0][1], x[1][0][2], x[1][1][1]))\n",
    "cleaned.first()"
   ]
  },
  {
   "cell_type": "markdown",
   "metadata": {},
   "source": [
    "Tạo một cặp key/value với khóa dưới dạng một bộ bao gồm trạm đặt tên và giờ, sau đó tính giá trị trung bình theo từng giờ cho mỗi trạm:"
   ]
  },
  {
   "cell_type": "code",
   "execution_count": 14,
   "metadata": {},
   "outputs": [
    {
     "data": {
      "text/plain": [
       "(('SJSU 4th at San Carlos', 23), (12, 10, 23, 'SJSU 4th at San Carlos'))"
      ]
     },
     "execution_count": 14,
     "metadata": {},
     "output_type": "execute_result"
    }
   ],
   "source": [
    "avgbyhour = cleaned.keyBy(lambda x: (x[3],x[2]))\n",
    "avgbyhour.first()"
   ]
  },
  {
   "cell_type": "code",
   "execution_count": 15,
   "metadata": {},
   "outputs": [
    {
     "data": {
      "text/plain": [
       "[(('SJSU 4th at San Carlos', 23), (10, 1)),\n",
       " (('SJSU 4th at San Carlos', 23), (10, 1)),\n",
       " (('SJSU 4th at San Carlos', 23), (10, 1)),\n",
       " (('SJSU 4th at San Carlos', 23), (10, 1)),\n",
       " (('SJSU 4th at San Carlos', 23), (10, 1))]"
      ]
     },
     "execution_count": 15,
     "metadata": {},
     "output_type": "execute_result"
    }
   ],
   "source": [
    "avgbyhour = cleaned.keyBy(lambda x: (x[3],x[2])) \\\n",
    " .mapValues(lambda x: (x[1], 1)) \n",
    "avgbyhour.take(5)"
   ]
  },
  {
   "cell_type": "code",
   "execution_count": 16,
   "metadata": {},
   "outputs": [
    {
     "data": {
      "text/plain": [
       "[(('SJSU 4th at San Carlos', 21), (4833, 420)),\n",
       " (('SJSU 4th at San Carlos', 17), (5071, 420)),\n",
       " (('SJSU 4th at San Carlos', 13), (5250, 420)),\n",
       " (('SJSU 4th at San Carlos', 9), (5323, 420)),\n",
       " (('SJSU 4th at San Carlos', 5), (5030, 420))]"
      ]
     },
     "execution_count": 16,
     "metadata": {},
     "output_type": "execute_result"
    }
   ],
   "source": [
    "avgbyhour = cleaned.keyBy(lambda x: (x[3],x[2])) \\\n",
    " .mapValues(lambda x: (x[1], 1)) \\\n",
    " .reduceByKey(lambda x, y: (x[0] + y[0], x[1] + y[1]))\n",
    "avgbyhour.take(5)"
   ]
  },
  {
   "cell_type": "code",
   "execution_count": 17,
   "metadata": {},
   "outputs": [
    {
     "data": {
      "text/plain": [
       "[(('SJSU 4th at San Carlos', 21), 11.507142857142858),\n",
       " (('SJSU 4th at San Carlos', 17), 12.073809523809524),\n",
       " (('SJSU 4th at San Carlos', 13), 12.5),\n",
       " (('SJSU 4th at San Carlos', 9), 12.673809523809524),\n",
       " (('SJSU 4th at San Carlos', 5), 11.976190476190476)]"
      ]
     },
     "execution_count": 17,
     "metadata": {},
     "output_type": "execute_result"
    }
   ],
   "source": [
    "avgbyhour = cleaned.keyBy(lambda x: (x[3],x[2])) \\\n",
    " .mapValues(lambda x: (x[1], 1)) \\\n",
    " .reduceByKey(lambda x, y: (x[0] + y[0], x[1] + y[1])) \\\n",
    " .mapValues(lambda x: (x[0]/x[1]))\n",
    "avgbyhour.take(5)"
   ]
  },
  {
   "cell_type": "markdown",
   "metadata": {},
   "source": [
    "Tìm 10 điểm trung bình hàng đầu theo trạm và giờ bằng cách sử dụng sortBy()"
   ]
  },
  {
   "cell_type": "code",
   "execution_count": 18,
   "metadata": {},
   "outputs": [
    {
     "data": {
      "text/plain": [
       "[(16.590476190476192,\n",
       "  (('San Jose Diridon Caltrain Station', 17), 16.590476190476192)),\n",
       " (16.492857142857144,\n",
       "  (('San Jose Diridon Caltrain Station', 7), 16.492857142857144)),\n",
       " (16.34285714285714,\n",
       "  (('San Jose Diridon Caltrain Station', 6), 16.34285714285714)),\n",
       " (16.21904761904762,\n",
       "  (('San Jose Diridon Caltrain Station', 18), 16.21904761904762)),\n",
       " (15.64047619047619,\n",
       "  (('San Jose Diridon Caltrain Station', 19), 15.64047619047619)),\n",
       " (15.516666666666667,\n",
       "  (('San Jose Diridon Caltrain Station', 22), 15.516666666666667)),\n",
       " (15.445238095238095,\n",
       "  (('San Jose Diridon Caltrain Station', 0), 15.445238095238095)),\n",
       " (15.416666666666666,\n",
       "  (('San Jose Diridon Caltrain Station', 20), 15.416666666666666)),\n",
       " (15.392857142857142,\n",
       "  (('San Jose Diridon Caltrain Station', 1), 15.392857142857142)),\n",
       " (15.383333333333333,\n",
       "  (('San Jose Diridon Caltrain Station', 4), 15.383333333333333))]"
      ]
     },
     "execution_count": 18,
     "metadata": {},
     "output_type": "execute_result"
    }
   ],
   "source": [
    "topavail = avgbyhour.keyBy(lambda x: x[1]) \\\n",
    " .sortByKey(ascending=False)\n",
    "topavail.take(10)"
   ]
  },
  {
   "cell_type": "code",
   "execution_count": 19,
   "metadata": {},
   "outputs": [
    {
     "data": {
      "text/plain": [
       "[('San Jose Diridon Caltrain Station', 17, 16.590476190476192),\n",
       " ('San Jose Diridon Caltrain Station', 7, 16.492857142857144),\n",
       " ('San Jose Diridon Caltrain Station', 6, 16.34285714285714),\n",
       " ('San Jose Diridon Caltrain Station', 18, 16.21904761904762),\n",
       " ('San Jose Diridon Caltrain Station', 19, 15.64047619047619),\n",
       " ('San Jose Diridon Caltrain Station', 22, 15.516666666666667),\n",
       " ('San Jose Diridon Caltrain Station', 0, 15.445238095238095),\n",
       " ('San Jose Diridon Caltrain Station', 20, 15.416666666666666),\n",
       " ('San Jose Diridon Caltrain Station', 1, 15.392857142857142),\n",
       " ('San Jose Diridon Caltrain Station', 4, 15.383333333333333)]"
      ]
     },
     "execution_count": 19,
     "metadata": {},
     "output_type": "execute_result"
    }
   ],
   "source": [
    "topavail = avgbyhour.keyBy(lambda x: x[1]) \\\n",
    " .sortByKey(ascending=False) \\\n",
    " .map(lambda x: (x[1][0][0], x[1][0][1], x[0]))\n",
    "topavail.take(10)"
   ]
  }
 ],
 "metadata": {
  "kernelspec": {
   "display_name": "Python 3",
   "language": "python",
   "name": "python3"
  },
  "language_info": {
   "codemirror_mode": {
    "name": "ipython",
    "version": 3
   },
   "file_extension": ".py",
   "mimetype": "text/x-python",
   "name": "python",
   "nbconvert_exporter": "python",
   "pygments_lexer": "ipython3",
   "version": "3.8.5"
  }
 },
 "nbformat": 4,
 "nbformat_minor": 4
}
