{
 "cells": [
  {
   "cell_type": "code",
   "execution_count": 3,
   "metadata": {},
   "outputs": [],
   "source": [
    "sc.stop()\n",
    "import sys, re\n",
    "from pyspark import SparkConf, SparkContext\n",
    "conf = SparkConf().setAppName('Word Counts')\n",
    "sc = SparkContext(conf=conf)"
   ]
  },
  {
   "cell_type": "code",
   "execution_count": 8,
   "metadata": {},
   "outputs": [
    {
     "name": "stdout",
     "output_type": "stream",
     "text": [
      "The top five words are : ['the', 'and', 'i', 'to', 'of']\n",
      "Check the complete output in ..\\data\\wordcounts\n"
     ]
    }
   ],
   "source": [
    "# count and sort word occurances\n",
    "wordcounts = sc.textFile(\"shakespeare.txt\") \\\n",
    "   .filter(lambda line: len(line) > 0) \\\n",
    "   .flatMap(lambda line: re.split('\\W+', line)) \\\n",
    "   .filter(lambda word: len(word) > 0) \\\n",
    "   .map(lambda word:(word.lower(),1)) \\\n",
    "   .reduceByKey(lambda v1, v2: v1 + v2) \\\n",
    "   .map(lambda x: (x[1],x[0])) \\\n",
    "   .sortByKey(ascending=False) \\\n",
    "   .persist()\n",
    "wordcounts.saveAsTextFile(\"data\\wordcounts\")\n",
    "top5words = wordcounts.take(5)\n",
    "justwords = []\n",
    "for wordsandcounts in top5words:\n",
    "    justwords.append(wordsandcounts[1])\n",
    "print(\"The top five words are : \" + str(justwords))\n",
    "print(\"Check the complete output in ..\\data\\wordcounts\")"
   ]
  },
  {
   "cell_type": "code",
   "execution_count": null,
   "metadata": {},
   "outputs": [],
   "source": []
  }
 ],
 "metadata": {
  "kernelspec": {
   "display_name": "Python 3",
   "language": "python",
   "name": "python3"
  },
  "language_info": {
   "codemirror_mode": {
    "name": "ipython",
    "version": 3
   },
   "file_extension": ".py",
   "mimetype": "text/x-python",
   "name": "python",
   "nbconvert_exporter": "python",
   "pygments_lexer": "ipython3",
   "version": "3.8.5"
  }
 },
 "nbformat": 4,
 "nbformat_minor": 4
}
