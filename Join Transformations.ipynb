{
 "cells": [
  {
   "cell_type": "code",
   "execution_count": 1,
   "metadata": {},
   "outputs": [],
   "source": [
    "import findspark\n",
    "findspark.init()\n",
    "findspark.find()\n",
    "import pyspark\n",
    "findspark.find()\n",
    "from pyspark.context import SparkContext\n",
    "from pyspark.sql.session import SparkSession\n",
    "import pandas as pd\n",
    "from pyspark.sql import SQLContext\n",
    "sc = SparkContext.getOrCreate()\n",
    "sqlContext = SQLContext(sc)\n",
    "spark = SparkSession(sc)"
   ]
  },
  {
   "cell_type": "markdown",
   "metadata": {},
   "source": [
    "# Datasets Used to Demonstrate Join Types in Spark"
   ]
  },
  {
   "cell_type": "code",
   "execution_count": 2,
   "metadata": {},
   "outputs": [],
   "source": [
    "stores = sc.parallelize([(100, 'Boca Raton'),\n",
    " (101, 'Columbia'),\n",
    " (102, 'Cambridge'),\n",
    " (103, 'Naperville')])\n",
    "# stores schema (store_id, store_location)\n",
    "salespeople = sc.parallelize([(1, 'Henry', 100),\n",
    " (2, 'Karen', 100),\n",
    " (3, 'Paul', 101),\n",
    " (4, 'Jimmy', 102),\n",
    " (5, 'Janice', None)])\n",
    "# salespeople schema (salesperson_id, salesperson_name, store_id)"
   ]
  },
  {
   "cell_type": "markdown",
   "metadata": {},
   "source": [
    "# join()\n",
    "Syntax: RDD.join(<'otherRDD'>, numPartitions=None)\n",
    "\n",
    "Một triển khai của phép nối bên trong, so khớp hai cặp key/value RDD theo khóa của chúng."
   ]
  },
  {
   "cell_type": "code",
   "execution_count": 4,
   "metadata": {},
   "outputs": [
    {
     "data": {
      "text/plain": [
       "[(100, ((1, 'Henry', 100), 'Boca Raton')),\n",
       " (100, ((2, 'Karen', 100), 'Boca Raton')),\n",
       " (101, ((3, 'Paul', 101), 'Columbia')),\n",
       " (102, ((4, 'Jimmy', 102), 'Cambridge'))]"
      ]
     },
     "execution_count": 4,
     "metadata": {},
     "output_type": "execute_result"
    }
   ],
   "source": [
    "salespeople.keyBy(lambda x: x[2]) \\\n",
    "           .join(stores).collect()"
   ]
  },
  {
   "cell_type": "markdown",
   "metadata": {},
   "source": [
    "# leftOuterJoin()\n",
    "Syntax: RDD.leftOuterJoin(<'otherRDD'>, numPartitions=None)\n",
    "\n",
    "Trả về tất cả các phần tử hoặc bản ghi từ RDD đầu tiên được tham chiếu. Nếu các khóa từ RDD đầu tiên (hoặc bên trái) có trong RDD bên phải, sau đó bản ghi RDD bên phải được trả về cùng với RDD bên trái ghi lại. Nếu không, bản ghi RDD bên phải là Không (trống)."
   ]
  },
  {
   "cell_type": "code",
   "execution_count": 10,
   "metadata": {},
   "outputs": [
    {
     "data": {
      "text/plain": [
       "[(None, ((5, 'Janice', None), None)),\n",
       " (100, ((1, 'Henry', 100), 'Boca Raton')),\n",
       " (100, ((2, 'Karen', 100), 'Boca Raton')),\n",
       " (101, ((3, 'Paul', 101), 'Columbia')),\n",
       " (102, ((4, 'Jimmy', 102), 'Cambridge'))]"
      ]
     },
     "execution_count": 10,
     "metadata": {},
     "output_type": "execute_result"
    }
   ],
   "source": [
    "salespeople.keyBy(lambda x: x[2]) \\\n",
    "           .leftOuterJoin(stores) \\\n",
    "           .collect()"
   ]
  },
  {
   "cell_type": "code",
   "execution_count": 11,
   "metadata": {
    "scrolled": true
   },
   "outputs": [
    {
     "data": {
      "text/plain": [
       "['salesperson Janice has no store']"
      ]
     },
     "execution_count": 11,
     "metadata": {},
     "output_type": "execute_result"
    }
   ],
   "source": [
    "salespeople.keyBy(lambda x: x[2]) \\\n",
    "           .leftOuterJoin(stores) \\\n",
    "           .filter(lambda x: x[1][1] is None) \\\n",
    "           .map(lambda x: \"salesperson \" + x[1][0][1] + \" has no store\") \\\n",
    "           .collect()"
   ]
  },
  {
   "cell_type": "markdown",
   "metadata": {},
   "source": [
    "# rightOuterJoin()\n",
    "Syntax: RDD.rightOuterJoin(<'otherRDD'>, numPartitions=None)\n",
    "\n",
    "Trả về tất cả các phần tử hoặc bản ghi từ RDD thứ hai được tham chiếu. Nếu có các khóa từ RDD thứ hai (hoặc bên phải)trong RDD bên trái, sau đó bản ghi RDD bên trái được trả về cùng với RDD bên phải ghi lại. Nếu không, bản ghi RDD bên trái là Không (trống)."
   ]
  },
  {
   "cell_type": "code",
   "execution_count": 12,
   "metadata": {},
   "outputs": [
    {
     "data": {
      "text/plain": [
       "[(100, ((1, 'Henry', 100), 'Boca Raton')),\n",
       " (100, ((2, 'Karen', 100), 'Boca Raton')),\n",
       " (101, ((3, 'Paul', 101), 'Columbia')),\n",
       " (102, ((4, 'Jimmy', 102), 'Cambridge')),\n",
       " (103, (None, 'Naperville'))]"
      ]
     },
     "execution_count": 12,
     "metadata": {},
     "output_type": "execute_result"
    }
   ],
   "source": [
    "salespeople.keyBy(lambda x: x[2]) \\\n",
    "           .rightOuterJoin(stores) \\\n",
    "           .collect()"
   ]
  },
  {
   "cell_type": "code",
   "execution_count": 13,
   "metadata": {},
   "outputs": [
    {
     "data": {
      "text/plain": [
       "['Naperville store has no salespeople']"
      ]
     },
     "execution_count": 13,
     "metadata": {},
     "output_type": "execute_result"
    }
   ],
   "source": [
    "salespeople.keyBy(lambda x: x[2]) \\\n",
    "           .rightOuterJoin(stores) \\\n",
    "           .filter(lambda x: x[1][0] is None) \\\n",
    "           .map(lambda x: x[1][1] + \" store has no salespeople\") \\\n",
    "           .collect()"
   ]
  },
  {
   "cell_type": "markdown",
   "metadata": {},
   "source": [
    "# fullOuterJoin()\n",
    "Syntax: RDD.fullOuterJoin(<'otherRDD'>, numPartitions=None)\n",
    "\n",
    "Biến đổi tất cả các phần tử từ cả hai RDD cho dù có khóa khớp hay không. Các phím không khớp từ bên trái hoặc bên phảitập dữ liệu được biểu thị là Không có (trống)."
   ]
  },
  {
   "cell_type": "code",
   "execution_count": 14,
   "metadata": {},
   "outputs": [
    {
     "data": {
      "text/plain": [
       "[(None, ((5, 'Janice', None), None)), (103, (None, 'Naperville'))]"
      ]
     },
     "execution_count": 14,
     "metadata": {},
     "output_type": "execute_result"
    }
   ],
   "source": [
    "salespeople.keyBy(lambda x: x[2]) \\\n",
    "           .fullOuterJoin(stores) \\\n",
    "           .filter(lambda x: x[1][0] is None or x[1][1] is None) \\\n",
    "           .collect()"
   ]
  },
  {
   "cell_type": "markdown",
   "metadata": {},
   "source": [
    "# cogroup()\n",
    "Syntax:RDD.cogroup(<'otherRDD'>, numPartitions=None)\n",
    "    \n",
    "Phép biến đổi cogroup () nhóm nhiều bộ dữ liệu cặp key/value bằng một Key. \n",
    "\n",
    "Về mặt khái niệm, nó hơi giống với fullOuterJoin(), nhưng ở đólà một số khác biệt chính trong việc triển khai:\n",
    "\n",
    "1.Phép biến đổi cogroup() trả về một đối tượng có thể lặp lại, tương tự nhưđối tượng được trả về từ hàm groupByKey().\n",
    "\n",
    "2.Phép biến đổi cogroup() nhóm nhiều phần tử từ cả hai RDD thành các đối tượng có thể lặp lại, trong khi fullOuterJoin() tạo ra các phần tử đầu ra cho cùng một khóa.\n",
    "\n",
    "3.Phép biến đổi cogroup() có thể nhóm ba hoặc nhiều RDD bằng cách sử dụng API Scala hoặc bí danh hàm groupWith()."
   ]
  },
  {
   "cell_type": "code",
   "execution_count": 15,
   "metadata": {},
   "outputs": [
    {
     "data": {
      "text/plain": [
       "[(None,\n",
       "  (<pyspark.resultiterable.ResultIterable at 0x1974aa30ca0>,\n",
       "   <pyspark.resultiterable.ResultIterable at 0x1974aa30670>))]"
      ]
     },
     "execution_count": 15,
     "metadata": {},
     "output_type": "execute_result"
    }
   ],
   "source": [
    "salespeople.keyBy(lambda x: x[2]) \\\n",
    " .cogroup(stores).take(1)\n",
    "# returns:\n",
    "# [(None, (<pyspark.resultiterable.ResultIterable object at ...>,\n",
    "# <pyspark.resultiterable.ResultIterable object at ...>))]"
   ]
  },
  {
   "cell_type": "code",
   "execution_count": 16,
   "metadata": {},
   "outputs": [
    {
     "data": {
      "text/plain": [
       "[(None, [(5, 'Janice', None)]),\n",
       " (100, [(1, 'Henry', 100), (2, 'Karen', 100), 'Boca Raton']),\n",
       " (101, [(3, 'Paul', 101), 'Columbia']),\n",
       " (102, [(4, 'Jimmy', 102), 'Cambridge']),\n",
       " (103, ['Naperville'])]"
      ]
     },
     "execution_count": 16,
     "metadata": {},
     "output_type": "execute_result"
    }
   ],
   "source": [
    "salespeople.keyBy(lambda x: x[2]) \\\n",
    " .cogroup(stores) \\\n",
    " .mapValues(lambda x: [item for sublist in x for item in sublist]) \\\n",
    " .collect()\n",
    "# using the mapValues() to process the Iterable object returns:\n",
    "# [(None, [(5, 'Janice', None)]),\n",
    "# (100, [(1, 'Henry', 100), (2, 'Karen', 100), 'Boca Raton']),\n",
    "# (102, [(4, 'Jimmy', 102), 'Cambridge']), (101, [(3, 'Paul', 101), 'Columbia']),\n",
    "# (103, ['Naperville'])]"
   ]
  },
  {
   "cell_type": "markdown",
   "metadata": {},
   "source": [
    "# cartesian()\n",
    "Syntax: RDD.cartesian(<'otherRDD'>)\n",
    "\n",
    "Phép biến đổi Cartesian() kết hợp chéo, tạo mọi kết hợp bản ghi có thể có từ cả hai RDDs. Số lượng bản ghi được tạo ra bởi sự chuyển đổi này bằng số lượng bản ghi trong RDD đầu tiên nhân với số lượng bản ghi trong RDD thứ hai."
   ]
  },
  {
   "cell_type": "code",
   "execution_count": 17,
   "metadata": {},
   "outputs": [
    {
     "data": {
      "text/plain": [
       "[((100, (1, 'Henry', 100)), (100, 'Boca Raton')),\n",
       " ((100, (1, 'Henry', 100)), (101, 'Columbia')),\n",
       " ((100, (1, 'Henry', 100)), (102, 'Cambridge')),\n",
       " ((100, (1, 'Henry', 100)), (103, 'Naperville')),\n",
       " ((100, (2, 'Karen', 100)), (100, 'Boca Raton')),\n",
       " ((100, (2, 'Karen', 100)), (101, 'Columbia')),\n",
       " ((100, (2, 'Karen', 100)), (102, 'Cambridge')),\n",
       " ((100, (2, 'Karen', 100)), (103, 'Naperville')),\n",
       " ((101, (3, 'Paul', 101)), (100, 'Boca Raton')),\n",
       " ((101, (3, 'Paul', 101)), (101, 'Columbia')),\n",
       " ((101, (3, 'Paul', 101)), (102, 'Cambridge')),\n",
       " ((101, (3, 'Paul', 101)), (103, 'Naperville')),\n",
       " ((102, (4, 'Jimmy', 102)), (100, 'Boca Raton')),\n",
       " ((None, (5, 'Janice', None)), (100, 'Boca Raton')),\n",
       " ((102, (4, 'Jimmy', 102)), (101, 'Columbia')),\n",
       " ((None, (5, 'Janice', None)), (101, 'Columbia')),\n",
       " ((102, (4, 'Jimmy', 102)), (102, 'Cambridge')),\n",
       " ((None, (5, 'Janice', None)), (102, 'Cambridge')),\n",
       " ((102, (4, 'Jimmy', 102)), (103, 'Naperville')),\n",
       " ((None, (5, 'Janice', None)), (103, 'Naperville'))]"
      ]
     },
     "execution_count": 17,
     "metadata": {},
     "output_type": "execute_result"
    }
   ],
   "source": [
    "salespeople.keyBy(lambda x: x[2]) \\\n",
    " .cartesian(stores).collect()"
   ]
  },
  {
   "cell_type": "code",
   "execution_count": null,
   "metadata": {},
   "outputs": [],
   "source": []
  }
 ],
 "metadata": {
  "kernelspec": {
   "display_name": "Python 3",
   "language": "python",
   "name": "python3"
  },
  "language_info": {
   "codemirror_mode": {
    "name": "ipython",
    "version": 3
   },
   "file_extension": ".py",
   "mimetype": "text/x-python",
   "name": "python",
   "nbconvert_exporter": "python",
   "pygments_lexer": "ipython3",
   "version": "3.8.5"
  }
 },
 "nbformat": 4,
 "nbformat_minor": 4
}
